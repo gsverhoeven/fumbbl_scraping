{
 "cells": [
  {
   "attachments": {},
   "cell_type": "markdown",
   "metadata": {},
   "source": [
    "# This notebook fetches the skill code lists and stores them "
   ]
  },
  {
   "cell_type": "code",
   "execution_count": null,
   "metadata": {},
   "outputs": [],
   "source": [
    "%run src/read_json_file.py\n",
    "%run src/write_json_file.py"
   ]
  },
  {
   "cell_type": "code",
   "execution_count": null,
   "metadata": {},
   "outputs": [],
   "source": [
    "import pandas as pd\n",
    "import requests"
   ]
  },
  {
   "cell_type": "code",
   "execution_count": null,
   "metadata": {},
   "outputs": [],
   "source": [
    "api_string = \"https://fumbbl.com/api/skill/list\"\n",
    "\n",
    "skill_list = requests.get(api_string)\n",
    "skill_list = skill_list.json()\n",
    "\n",
    "#skill_list"
   ]
  },
  {
   "cell_type": "code",
   "execution_count": null,
   "metadata": {},
   "outputs": [],
   "source": [
    "write_json_file(skill_list, fname = \"raw/skill_list_bb2016.json\")"
   ]
  },
  {
   "cell_type": "code",
   "execution_count": null,
   "metadata": {},
   "outputs": [],
   "source": [
    "api_string = \"https://fumbbl.com/api/skill/list/2020\"\n",
    "\n",
    "skill_list = requests.get(api_string)\n",
    "skill_list = skill_list.json()\n",
    "\n",
    "write_json_file(skill_list, fname = \"raw/skill_list_bb2020.json\")"
   ]
  },
  {
   "attachments": {},
   "cell_type": "markdown",
   "metadata": {},
   "source": [
    "Convert skill code JSONs into a single pandas dataframe "
   ]
  },
  {
   "cell_type": "code",
   "execution_count": null,
   "metadata": {},
   "outputs": [],
   "source": [
    "skill_list = read_json_file(fname = \"raw/skill_list_bb2020.json\")\n",
    "skill_list = pd.json_normalize(skill_list)\n",
    "skill_list.rename({'id' : 'skill_id'}, axis = 1, inplace=True)\n",
    "\n",
    "skill_list = skill_list.loc[:, ['skill_id', 'name']]\n",
    "\n",
    "skill_list.head(5)"
   ]
  },
  {
   "cell_type": "code",
   "execution_count": null,
   "metadata": {},
   "outputs": [],
   "source": [
    "skill_list2 = read_json_file(fname = \"raw/skill_list_bb2016.json\")\n",
    "skill_list2 = pd.json_normalize(skill_list2)\n",
    "skill_list2.rename({'id' : 'skill_id'}, axis = 1, inplace=True)\n",
    "\n",
    "skill_list2 = skill_list2.loc[:, ['skill_id', 'name']]\n",
    "\n",
    "skill_list2.head(5)"
   ]
  },
  {
   "cell_type": "code",
   "execution_count": null,
   "metadata": {},
   "outputs": [],
   "source": [
    "df_skills = pd.concat([skill_list, skill_list2])"
   ]
  },
  {
   "cell_type": "code",
   "execution_count": null,
   "metadata": {},
   "outputs": [],
   "source": [
    "df_skills.sort_values('skill_id')"
   ]
  },
  {
   "cell_type": "code",
   "execution_count": null,
   "metadata": {},
   "outputs": [],
   "source": [
    "target = 'datasets/current/df_skills'\n",
    "\n",
    "#df_skills.to_hdf(target + '.h5', key='df_skills', mode='w', format = 't',  complevel = 9)\n",
    "df_skills.to_csv(target + '.csv')"
   ]
  }
 ],
 "metadata": {
  "kernelspec": {
   "display_name": "requests_env",
   "language": "python",
   "name": "python3"
  },
  "language_info": {
   "codemirror_mode": {
    "name": "ipython",
    "version": 3
   },
   "file_extension": ".py",
   "mimetype": "text/x-python",
   "name": "python",
   "nbconvert_exporter": "python",
   "pygments_lexer": "ipython3",
   "version": "3.6.9"
  },
  "orig_nbformat": 4
 },
 "nbformat": 4,
 "nbformat_minor": 2
}
