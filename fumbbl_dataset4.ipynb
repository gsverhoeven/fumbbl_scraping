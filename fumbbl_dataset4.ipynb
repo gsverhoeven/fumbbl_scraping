{
 "cells": [
  {
   "cell_type": "markdown",
   "metadata": {},
   "source": [
    "## New analysis goal: fixed skill sets from tourneys\n",
    "\n",
    "Use df_matches to identify the group ids that use competitive rulesets.\n",
    "This gives us the team ids we need.\n",
    "Then we can get the team roster using https://fumbbl.com/api/team/get/1102662\n",
    "we need the player ids here.\n",
    "\n",
    "and the chosen skills using https://fumbbl.com/api/team/getOptions/1102662\n",
    "this is a string of player ids, with skill ids.\n",
    "\n",
    "through https://fumbbl.com/api/skill/list we can get a list of skills.\n",
    "https://fumbbl.com/api/skill/list/2020 and this is the 2020 list.\n",
    "\n",
    "* World cup training: 9941 (dec 2020), 2 matches in dec 2020 using bb2016, then in okt 2021 for real. 429 matches.\n",
    "* SUper league: 15615\n",
    "* templars road to WC: 11605\n",
    "* entrainment tournois: 12879\n",
    "* NAF online tournaments : 9298\n",
    "* Tacklezone: 12013\n",
    "* Doppelbock: 13198\n",
    "* Eurobowl practice league: 15643\n",
    "* Eurobowl 2020 training: 12087 (eurobowl warsaw)"
   ]
  },
  {
   "cell_type": "code",
   "execution_count": null,
   "metadata": {},
   "outputs": [],
   "source": [
    "import pandas as pd\n",
    "import numpy as np\n",
    "import plotnine as p9\n",
    "import requests\n",
    "\n",
    "from mizani.formatters import date_format\n",
    "\n",
    "# point this to the location of the CSV datasets\n",
    "path_to_datasets = 'datasets/current/'\n",
    "\n",
    "# FUMBBL matches\n",
    "target = 'df_matches.csv'\n",
    "df_matches = pd.read_csv(path_to_datasets + target, index_col=0) \n",
    "\n",
    "#target = 'df_mbt.csv'\n",
    "#df_mbt = pd.read_csv(path_to_datasets + target, index_col=0) "
   ]
  },
  {
   "cell_type": "code",
   "execution_count": null,
   "metadata": {},
   "outputs": [],
   "source": [
    "# FUMBBL inducements\n",
    "target = 'inducements.csv'\n",
    "inducements = pd.read_csv(path_to_datasets + target, index_col=0) \n",
    "\n",
    "# FUMBBL skills\n",
    "target = 'df_skills.csv'\n",
    "df_skills = pd.read_csv(path_to_datasets + target, index_col=0) "
   ]
  },
  {
   "cell_type": "code",
   "execution_count": null,
   "metadata": {},
   "outputs": [],
   "source": [
    "%run src/read_json_file.py\n",
    "%run src/write_json_file.py\n",
    "\n",
    "%run src/get_team_roster.py"
   ]
  },
  {
   "cell_type": "markdown",
   "metadata": {},
   "source": [
    "https://fumbbl.com/api/ruleset/get/188\n",
    "contains info about gold and skills.\n",
    "\n",
    "From the roster id we can infer the bb version."
   ]
  },
  {
   "cell_type": "code",
   "execution_count": null,
   "metadata": {},
   "outputs": [],
   "source": [
    "df_matches['match_date'] = pd.to_datetime(df_matches['match_date'])\n",
    "df_matches['week_date'] = pd.to_datetime(df_matches['week_date'])\n",
    "\n",
    "\n",
    "df_matches['quarter'] = df_matches['match_date'].dt.to_period('Q')\n",
    "df_matches['month'] = df_matches['match_date'].dt.to_period('M')\n",
    "df_matches['quarter_date'] = pd.PeriodIndex(df_matches['quarter'] , freq='Q').to_timestamp()\n",
    "df_matches['month_date'] = pd.PeriodIndex(df_matches['month'] , freq='M').to_timestamp()\n",
    "\n",
    "df_matches.loc[df_matches['scheduler'].astype(\"string\").str.contains(\"Blackbox\"), 'division_name'] = 'Blackbox'\n",
    "\n",
    "df_matches['cr_diff2_bin'] = pd.cut(df_matches['cr_diff2'], bins = [-1*float(\"inf\"), -30, -20, -10, -5, 5, 10, 20, 30, float(\"inf\")], \n",
    " labels=['{-Inf,-30]', '[-30,-20]', '[-20,-10]', '[-10,-5]', '[-5,5]', '[5,10]', '[10,20]', '[20,30]', '[30,Inf]']) \n",
    " "
   ]
  },
  {
   "cell_type": "code",
   "execution_count": null,
   "metadata": {},
   "outputs": [],
   "source": [
    "df_matches.query('match_id == 4591016')"
   ]
  },
  {
   "attachments": {},
   "cell_type": "markdown",
   "metadata": {},
   "source": [
    "# Gather Team roster info\n",
    "\n",
    "need a tournament or group (here called league) id.\n",
    "\n",
    "For EB25 training teams we need a ruleset_id, a group / league and a cut off date.\n",
    "\n",
    "Candlejack post 17 oct 2024:\n",
    "```\n",
    "Eurobowl Training\n",
    "With the new Eurobowl rules having published (beta version, stirring up a lot of discussion on several channels) the Eurobowl Training group has reopened with an adjusted ruleset.\n",
    "\n",
    "So if you want to put your theorybowl roster to a test drive, this is the place for you. We are not running any leagues, tihs is just an open play group where everyone is responsible to find their own games.\n",
    "\n",
    "For anyone who has been running EB based leagues on the ruleset of this group: For technical reasons I had to create a new ruleset with ID 3530. \n",
    "```"
   ]
  },
  {
   "cell_type": "code",
   "execution_count": null,
   "metadata": {},
   "outputs": [],
   "source": [
    "team_ids = df_matches.query('ruleset_id == 3530 & league == 9941 & match_date > \"2024-10-17\"')['team1_id'].values\n",
    "more_team_ids = df_matches.query('ruleset_id == 3530 & league == 9941 & match_date > \"2024-10-17\"')['team2_id'].values\n",
    "\n",
    "# Maybe better to filter on team_id"
   ]
  },
  {
   "cell_type": "code",
   "execution_count": null,
   "metadata": {},
   "outputs": [],
   "source": [
    "is_tournament = 0\n",
    "\n",
    "# NAF Road to Malta 2022(1.15M BB2020)\n",
    "tournament_ids = [58323,58324, 58322, 58321]\n",
    "# SL season 5 div3c\n",
    "tournament_ids = [62930] \n",
    "\n",
    "# SL season 6\n",
    "tournament_ids = [63904, 63905, 63906, 63907, 63908, 63909, 63910, 63911] \n",
    "\n",
    "# EB/WC Training (1.15M BB2020, mix of EB and WC)\n",
    "league_ids = [9941]\n",
    "# Super league [BB2020, no stars, only bribes and master chef, 1.15M, bespoke tiering system]\n",
    "league_ids = [15615]\n",
    "\n",
    "is_eb2025 = 0\n",
    "is_eb_italia = 0\n",
    "\n",
    "\n",
    "if is_tournament:\n",
    "    team_ids = []\n",
    "\n",
    "    for tournament_id in tournament_ids:\n",
    "        \n",
    "        tmp_list = (df_matches.query('tournament_id == @tournament_id')['team1_id'].tolist() + \n",
    "            df_matches.query('tournament_id == @tournament_id')['team2_id'].tolist())\n",
    "            \n",
    "        tmp_list = list(set(tmp_list))\n",
    "\n",
    "        team_ids.extend(tmp_list)\n",
    "elif is_eb2025:\n",
    "    team_ids = df_matches.query('ruleset_id == 3530 & league == 9941 & match_date > \"2024-10-17\"')['team1_id'].values\n",
    "    more_team_ids = df_matches.query('ruleset_id == 3530 & league == 9941 & match_date > \"2024-10-17\"')['team2_id'].values\n",
    "    team_ids = np.concatenate((team_ids, more_team_ids))\n",
    "    team_ids = np.array(list(set(team_ids)))\n",
    "    team_ids = list(team_ids[team_ids > 1200068])\n",
    "    team_ids.sort()\n",
    "elif is_eb_italia:\n",
    "    team_ids = df_matches.query('ruleset_id == 3530 & league == 12152')['team1_id'].values\n",
    "    more_team_ids = df_matches.query('ruleset_id == 3530 & league == 12152')['team2_id'].values\n",
    "    team_ids = np.concatenate((team_ids, more_team_ids))\n",
    "    team_ids = np.array(list(set(team_ids)))\n",
    "    team_ids = list(team_ids[team_ids > 1200068]) # 16 oct team created\n",
    "    team_ids.sort()    \n",
    "else: # super league\n",
    "    team_ids = []\n",
    "\n",
    "    for league_id in league_ids:\n",
    "        \n",
    "        tmp_list = (df_matches.query('league == @league_id')['team1_id'].tolist() + \n",
    "            df_matches.query('league == @league_id')['team2_id'].tolist())\n",
    "            \n",
    "        tmp_list = list(set(tmp_list))\n",
    "    \n",
    "        team_ids.extend(tmp_list)\n",
    "    \n",
    "    team_ids = np.array(list(set(team_ids)))\n",
    "    team_ids = list(team_ids[team_ids > 1200068]) # 16 oct team created\n",
    "    team_ids.sort()   "
   ]
  },
  {
   "cell_type": "code",
   "execution_count": null,
   "metadata": {},
   "outputs": [],
   "source": [
    "# how many teams?\n",
    "len(team_ids)\n",
    "#46*4"
   ]
  },
  {
   "attachments": {},
   "cell_type": "markdown",
   "metadata": {},
   "source": [
    "The `get_team_roster()` function is the workhorse here, piecing together the roster containing skills and inducements. For this it needs match data as inducements are considered part of a match, not of a roster. "
   ]
  },
  {
   "cell_type": "code",
   "execution_count": null,
   "metadata": {},
   "outputs": [],
   "source": [
    "%run src/get_team_roster.py\n",
    "df_rosters = get_team_roster(team_ids[0], df_skills, df_matches, inducements)\n",
    "df_rosters"
   ]
  },
  {
   "cell_type": "code",
   "execution_count": null,
   "metadata": {},
   "outputs": [],
   "source": [
    "team_ids.pop(0)\n",
    "\n",
    "for team_id in team_ids:\n",
    "    df_rosters_tmp = get_team_roster(team_id, df_skills, df_matches, inducements)\n",
    "    df_rosters = pd.concat([df_rosters, df_rosters_tmp], ignore_index=True)"
   ]
  },
  {
   "cell_type": "code",
   "execution_count": null,
   "metadata": {},
   "outputs": [],
   "source": [
    "#target = 'datasets/current/df_rosters_eurobowl2020'\n",
    "#target = 'datasets/current/df_rosters_road_to_malta'\n",
    "#target = 'datasets/current/df_rosters_super_league_s5'\n",
    "#target = 'datasets/current/df_rosters_wc_training'\n",
    "#target = 'datasets/current/df_rosters_eb2025'\n",
    "#target = 'datasets/current/df_rosters_eb2025_italia'\n",
    "target = 'datasets/current/df_rosters_super_league_s6'\n",
    "\n",
    "#df_rosters.to_hdf(target + '.h5', key='df_rosters', mode='w', format = 't',  complevel = 9)\n",
    "df_rosters.to_csv(target + '.csv')\n",
    "\n"
   ]
  }
 ],
 "metadata": {
  "kernelspec": {
   "display_name": "fumbbl_env",
   "language": "python",
   "name": "python3"
  },
  "language_info": {
   "codemirror_mode": {
    "name": "ipython",
    "version": 3
   },
   "file_extension": ".py",
   "mimetype": "text/x-python",
   "name": "python",
   "nbconvert_exporter": "python",
   "pygments_lexer": "ipython3",
   "version": "3.12.3"
  },
  "orig_nbformat": 4
 },
 "nbformat": 4,
 "nbformat_minor": 2
}
