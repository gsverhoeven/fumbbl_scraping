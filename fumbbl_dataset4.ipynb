{
 "cells": [
  {
   "cell_type": "markdown",
   "metadata": {},
   "source": [
    "## New analysis goal: fixed skill sets from tourneys\n",
    "\n",
    "Use df_matches to identify the group ids that use competitive rulesets.\n",
    "This gives us the team ids we need.\n",
    "Then we can get the team roster using https://fumbbl.com/api/team/get/1102662\n",
    "we need the player ids here.\n",
    "\n",
    "and the chosen skills using https://fumbbl.com/api/team/getOptions/1102662\n",
    "this is a string of player ids, with skill ids.\n",
    "\n",
    "through https://fumbbl.com/api/skill/list we can get a list of skills.\n",
    "https://fumbbl.com/api/skill/list/2020 and this is the 2020 list.\n",
    "\n",
    "* World cup training: 9941 (dec 2020), 2 matches in dec 2020 using bb2016, then in okt 2021 for real. 429 matches.\n",
    "* SUper league: 15615\n",
    "* templars road to WC: 11605\n",
    "* entrainment tournois: 12879\n",
    "* NAF online tournaments : 9298\n",
    "* Tacklezone: 12013\n",
    "* Doppelbock: 13198\n",
    "* Eurobowl practice league: 15643\n",
    "* Eurobowl 2020 training: 12087 (eurobowl warsaw)"
   ]
  },
  {
   "cell_type": "code",
   "execution_count": 2,
   "metadata": {},
   "outputs": [],
   "source": [
    "import pandas as pd\n",
    "import numpy as np\n",
    "import plotnine as p9\n",
    "import requests\n",
    "\n",
    "from mizani.formatters import date_format\n",
    "\n",
    "# point this to the location of the CSV datasets\n",
    "path_to_datasets = '../datasets/current/'\n",
    "\n",
    "# FUMBBL matches\n",
    "target = 'df_matches.csv'\n",
    "df_matches = pd.read_csv(path_to_datasets + target) \n",
    "\n",
    "target = 'df_mbt.csv'\n",
    "df_mbt = pd.read_csv(path_to_datasets + target) "
   ]
  },
  {
   "cell_type": "code",
   "execution_count": 3,
   "metadata": {},
   "outputs": [],
   "source": [
    "# FUMBBL inducements\n",
    "target = 'inducements.csv'\n",
    "inducements = pd.read_csv(path_to_datasets + target) \n",
    "\n",
    "# FUMBBL skills\n",
    "target = 'df_skills.csv'\n",
    "df_skills = pd.read_csv(path_to_datasets + target) "
   ]
  },
  {
   "cell_type": "code",
   "execution_count": 5,
   "metadata": {},
   "outputs": [],
   "source": [
    "%run ../../fumbbl_scraping/src/read_json_file.py\n",
    "%run ../../fumbbl_scraping/src/write_json_file.py\n",
    "\n",
    "%run get_team_roster.py"
   ]
  },
  {
   "cell_type": "markdown",
   "metadata": {},
   "source": [
    "https://fumbbl.com/api/ruleset/get/188\n",
    "contains info about gold and skills.\n",
    "\n",
    "From the roster id we can infer the bb version."
   ]
  },
  {
   "cell_type": "code",
   "execution_count": 6,
   "metadata": {},
   "outputs": [],
   "source": [
    "df_matches['match_date'] = pd.to_datetime(df_matches['match_date'])\n",
    "df_matches['week_date'] = pd.to_datetime(df_matches['week_date'])\n",
    "\n",
    "\n",
    "df_matches['quarter'] = df_matches['match_date'].dt.to_period('Q')\n",
    "df_matches['month'] = df_matches['match_date'].dt.to_period('M')\n",
    "df_matches['quarter_date'] = pd.PeriodIndex(df_matches['quarter'] , freq='Q').to_timestamp()\n",
    "df_matches['month_date'] = pd.PeriodIndex(df_matches['month'] , freq='M').to_timestamp()\n",
    "\n",
    "df_matches.loc[df_matches['scheduler'].str.contains(\"Blackbox\"), 'division_name'] = 'Blackbox'\n",
    "\n",
    "df_matches['cr_diff2_bin'] = pd.cut(df_matches['cr_diff2'], bins = [-1*float(\"inf\"), -30, -20, -10, -5, 5, 10, 20, 30, float(\"inf\")], \n",
    " labels=['{-Inf,-30]', '[-30,-20]', '[-20,-10]', '[-10,-5]', '[-5,5]', '[5,10]', '[10,20]', '[20,30]', '[30,Inf]']) \n",
    "\n",
    "df_mbt['match_date'] = pd.to_datetime(df_mbt['match_date'])\n",
    "df_mbt['quarter'] = df_mbt['match_date'].dt.to_period('Q')\n",
    "df_mbt['month'] = df_mbt['match_date'].dt.to_period('M')\n",
    "df_mbt['quarter_date'] = pd.PeriodIndex(df_mbt['quarter'] , freq='Q').to_timestamp()\n",
    "df_mbt['month_date'] = pd.PeriodIndex(df_mbt['month'] , freq='M').to_timestamp()"
   ]
  },
  {
   "attachments": {},
   "cell_type": "markdown",
   "metadata": {},
   "source": [
    "# Gather Team roster info\n",
    "\n",
    "need a tournament or group (here called league) id."
   ]
  },
  {
   "cell_type": "code",
   "execution_count": 7,
   "metadata": {},
   "outputs": [],
   "source": [
    "is_tournament = 1\n",
    "\n",
    "# NAF EurOpen 2020 (1.1M, BB2016)\n",
    "tournament_ids = [53038, 53037, 53040, 53041]\n",
    "# NAF GBFU 2021 (1.1M, BB2020, no skills available)\n",
    "tournament_ids = [56214, 56208, 56212, 56213]\n",
    "\n",
    "\n",
    "# NAF Road to Malta 2022(1.15M BB2020)\n",
    "tournament_ids = [58323,58324, 58322, 58321]\n",
    "\n",
    "#is_tournament = 0\n",
    "\n",
    "# World Cup Training (1.15M BB2020, mix of EB and WC)\n",
    "#league_ids = [9941]\n",
    "# Super league [BB2020, no stars, only bribes and master chef, 1.15M, bespoke tiering system]\n",
    "#league_ids = [15615]\n",
    "\n",
    "\n",
    "\n",
    "if is_tournament:\n",
    "    team_ids = []\n",
    "\n",
    "    for tournament_id in tournament_ids:\n",
    "        \n",
    "        tmp_list = (df_matches.query('tournament_id == @tournament_id')['team1_id'].tolist() + \n",
    "            df_matches.query('tournament_id == @tournament_id')['team2_id'].tolist())\n",
    "            \n",
    "        tmp_list = list(set(tmp_list))\n",
    "\n",
    "        team_ids.extend(tmp_list)\n",
    "else:\n",
    "    team_ids = []\n",
    "\n",
    "    for league_id in league_ids:\n",
    "        \n",
    "        tmp_list = (df_matches.query('league == @league_id')['team1_id'].tolist() + \n",
    "            df_matches.query('league == @league_id')['team2_id'].tolist())\n",
    "            \n",
    "        tmp_list = list(set(tmp_list))\n",
    "\n",
    "        team_ids.extend(tmp_list)"
   ]
  },
  {
   "cell_type": "code",
   "execution_count": 8,
   "metadata": {},
   "outputs": [
    {
     "data": {
      "text/plain": [
       "184"
      ]
     },
     "execution_count": 8,
     "metadata": {},
     "output_type": "execute_result"
    }
   ],
   "source": [
    "# how many teams?\n",
    "len(team_ids)\n",
    "#46*4"
   ]
  },
  {
   "attachments": {},
   "cell_type": "markdown",
   "metadata": {},
   "source": [
    "The `get_team_roster()` function is the workhorse here, piecing together the roster containing skills and inducements. For this it needs match data as inducements are considered part of a match, not of a roster. "
   ]
  },
  {
   "cell_type": "code",
   "execution_count": null,
   "metadata": {},
   "outputs": [],
   "source": [
    "df_rosters = get_team_roster(team_ids[0], df_skills, df_matches, inducements)"
   ]
  },
  {
   "cell_type": "code",
   "execution_count": null,
   "metadata": {},
   "outputs": [],
   "source": [
    "team_ids.pop(0)\n",
    "\n",
    "for team_id in team_ids:\n",
    "    df_rosters_tmp = get_team_roster(team_id, df_skills, df_matches, inducements)\n",
    "    df_rosters = pd.concat([df_rosters, df_rosters_tmp], ignore_index=True)"
   ]
  },
  {
   "cell_type": "code",
   "execution_count": null,
   "metadata": {},
   "outputs": [],
   "source": [
    "df_rosters"
   ]
  },
  {
   "cell_type": "code",
   "execution_count": null,
   "metadata": {},
   "outputs": [],
   "source": [
    "#target = 'datasets/current/df_rosters_eurobowl2020'\n",
    "target = 'datasets/current/df_rosters_road_to_malta'\n",
    "#target = 'datasets/current/df_rosters_super_league'\n",
    "#target = 'datasets/current/df_rosters_wc_training'\n",
    "\n",
    "#df_rosters.to_hdf(target + '.h5', key='df_rosters', mode='w', format = 't',  complevel = 9)\n",
    "df_rosters.to_csv(target + '.csv')\n",
    "\n"
   ]
  }
 ],
 "metadata": {
  "kernelspec": {
   "display_name": "Python 3.6.9 ('requests_env')",
   "language": "python",
   "name": "python3"
  },
  "language_info": {
   "codemirror_mode": {
    "name": "ipython",
    "version": 3
   },
   "file_extension": ".py",
   "mimetype": "text/x-python",
   "name": "python",
   "nbconvert_exporter": "python",
   "pygments_lexer": "ipython3",
   "version": "3.6.9"
  },
  "orig_nbformat": 4,
  "vscode": {
   "interpreter": {
    "hash": "50276fd1884268afe39607052f22ef19b84d915691d702a5c7e9a67a09867105"
   }
  }
 },
 "nbformat": 4,
 "nbformat_minor": 2
}
