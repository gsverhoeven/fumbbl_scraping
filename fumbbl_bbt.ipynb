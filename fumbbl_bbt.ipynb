{
 "cells": [
  {
   "cell_type": "markdown",
   "metadata": {},
   "source": [
    "# Using Selenium to scrape Black Box Trophy meta competition"
   ]
  },
  {
   "cell_type": "code",
   "execution_count": null,
   "metadata": {},
   "outputs": [],
   "source": [
    "import numpy as np\n",
    "import pandas as pd\n",
    "import json\n",
    "\n",
    "pd.set_option('display.max_rows', 500)\n",
    "pd.set_option('display.max_columns', 500)"
   ]
  },
  {
   "cell_type": "code",
   "execution_count": null,
   "metadata": {},
   "outputs": [],
   "source": [
    "from selenium import webdriver\n",
    "from selenium.webdriver.common.by import By\n",
    "from selenium.webdriver.support.ui import Select\n",
    "from selenium.webdriver.chrome.options import Options\n",
    "from selenium.webdriver.chrome.service import Service\n",
    "from webdriver_manager.chrome import ChromeDriverManager\n",
    "\n",
    "options = Options()\n",
    "options.add_argument('--headless')\n",
    "options.add_argument('--no-sandbox')\n",
    "options.add_argument('--disable-dev-shm-usage')"
   ]
  },
  {
   "cell_type": "code",
   "execution_count": null,
   "metadata": {},
   "outputs": [],
   "source": [
    "from PIL import Image\n",
    "from IPython.display import display"
   ]
  },
  {
   "cell_type": "code",
   "execution_count": null,
   "metadata": {},
   "outputs": [],
   "source": [
    "driver = webdriver.Chrome(service=Service(ChromeDriverManager().install()), options=options)\n",
    "# Navigate to the webpage\n",
    "url = 'https://fumbbl.com/p/boxtrophy' \n",
    "driver.get(url)\n",
    "print(driver.title)\n",
    "driver.implicitly_wait(0.5)"
   ]
  },
  {
   "cell_type": "code",
   "execution_count": null,
   "metadata": {},
   "outputs": [],
   "source": [
    "# Click on Season number in title\n",
    "element = driver.find_element(By.CLASS_NAME, 'title')\n",
    "element = element.find_element(By.TAG_NAME, 'a')\n",
    "element.click()"
   ]
  },
  {
   "cell_type": "code",
   "execution_count": null,
   "metadata": {},
   "outputs": [],
   "source": [
    "# Select Season 12\n",
    "element = driver.find_element(By.CLASS_NAME, 'title')\n",
    "select_element = element.find_element(By.TAG_NAME, 'select')\n",
    "select = Select(select_element)\n",
    "#option_list = select.options\n",
    "#option_list[11].text\n",
    "select.select_by_index(11)"
   ]
  },
  {
   "cell_type": "code",
   "execution_count": null,
   "metadata": {},
   "outputs": [],
   "source": [
    "# Select Team Score tab\n",
    "element = driver.find_element(by=By.CLASS_NAME, value=\"pagenav\")\n",
    "items = element.find_elements(By.TAG_NAME, 'li')\n",
    "for item in items:\n",
    "    text = item.text\n",
    "    #print(text)\n",
    "    if text == 'Team Score':\n",
    "        item.click()"
   ]
  },
  {
   "cell_type": "code",
   "execution_count": null,
   "metadata": {},
   "outputs": [],
   "source": [
    "# get url to team page for top 10 teams\n",
    "teams = driver.find_elements(by=By.CLASS_NAME, value=\"team\")\n",
    "for t in teams[0:11]:\n",
    "\n",
    "    teamName = t.find_element(by=By.CLASS_NAME, value=\"teamName\")\n",
    "    teamName = teamName.find_element(by=By.TAG_NAME, value=\"a\")\n",
    "    print(teamName.get_attribute(\"href\"))"
   ]
  },
  {
   "cell_type": "code",
   "execution_count": null,
   "metadata": {},
   "outputs": [],
   "source": [
    "# display current screen state\n",
    "driver.save_screenshot(\"current_screen.png\")\n",
    "image = Image.open(\"current_screen.png\")\n",
    "display(image)"
   ]
  },
  {
   "cell_type": "code",
   "execution_count": null,
   "metadata": {},
   "outputs": [],
   "source": [
    "# quit Chrome Browser session\n",
    "driver.quit()"
   ]
  }
 ],
 "metadata": {
  "kernelspec": {
   "display_name": "fumbbl_env",
   "language": "python",
   "name": "python3"
  },
  "language_info": {
   "codemirror_mode": {
    "name": "ipython",
    "version": 3
   },
   "file_extension": ".py",
   "mimetype": "text/x-python",
   "name": "python",
   "nbconvert_exporter": "python",
   "pygments_lexer": "ipython3",
   "version": "3.12.3"
  }
 },
 "nbformat": 4,
 "nbformat_minor": 2
}
